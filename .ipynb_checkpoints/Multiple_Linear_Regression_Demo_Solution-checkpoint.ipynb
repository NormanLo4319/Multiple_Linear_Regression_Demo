{
 "cells": [
  {
   "cell_type": "markdown",
   "id": "requested-injection",
   "metadata": {},
   "source": [
    "## Practice with a Partner: (20 minutes)\n",
    "\n",
    "We have a interesting data set that study our brain. In this exercise we are trying to use multiple features to predict brain **weight**.\n",
    "\n",
    "Source: R.J. Gladstone (1905). \"A Study of the Relations of the Brain to the Size of the Head\", Biometrika, Vol. 4, pp105-123\n",
    "\n",
    "Description: Brain weight (grams) and head size (cubic cm) for 237 adults classified by gender and age group.\n",
    "\n",
    "Variables/Columns:\n",
    "\n",
    "GENDER: Gender  Male or Female  \n",
    "AGE: Age Range  20-46 or 46+  \n",
    "SIZE: Head size ($cm^3$)  21-24  \n",
    "WEIGHT: Brain weight (grams)  29-32 \n",
    "\n",
    "### Objectives:\n",
    "- Follow the standard workflow, such as checking the data type, cleaning the data, prepare data for regression model.\n",
    "- Create dummy variables for the categorical data using either Pandas ```pd.get_dummy()``` or sklearn ```OneHotEncoder()```.\n",
    "- Scale the data using sklearn ```standardScaler()```.\n",
    "- Fit the data in multiple linear regression and evaluate the results.\n",
    "- Evaluate the model using different metrics, $R^2$, MAE, MSE.\n",
    "\n",
    "Follow the instructions and complete a coding exercise with a partner in the class (in the random breakout room). Instructor will go into the rooms to help answering questions from students."
   ]
  },
  {
   "cell_type": "code",
   "execution_count": 1,
   "id": "indonesian-parker",
   "metadata": {},
   "outputs": [],
   "source": [
    "# Import dependencies\n",
    "import matplotlib.pyplot as plt\n",
    "import numpy as np\n",
    "import pandas as pd\n",
    "from sklearn.preprocessing import OneHotEncoder, StandardScaler\n",
    "from sklearn.linear_model import LinearRegression\n",
    "from sklearn.metrics import mean_squared_error\n",
    "import sklearn.metrics as metrics"
   ]
  },
  {
   "cell_type": "code",
   "execution_count": 2,
   "id": "aboriginal-combination",
   "metadata": {},
   "outputs": [
    {
     "data": {
      "text/html": [
       "<div>\n",
       "<style scoped>\n",
       "    .dataframe tbody tr th:only-of-type {\n",
       "        vertical-align: middle;\n",
       "    }\n",
       "\n",
       "    .dataframe tbody tr th {\n",
       "        vertical-align: top;\n",
       "    }\n",
       "\n",
       "    .dataframe thead th {\n",
       "        text-align: right;\n",
       "    }\n",
       "</style>\n",
       "<table border=\"1\" class=\"dataframe\">\n",
       "  <thead>\n",
       "    <tr style=\"text-align: right;\">\n",
       "      <th></th>\n",
       "      <th>gender</th>\n",
       "      <th>age</th>\n",
       "      <th>size</th>\n",
       "      <th>weight</th>\n",
       "    </tr>\n",
       "  </thead>\n",
       "  <tbody>\n",
       "    <tr>\n",
       "      <th>0</th>\n",
       "      <td>Male</td>\n",
       "      <td>20-46</td>\n",
       "      <td>4512</td>\n",
       "      <td>1530</td>\n",
       "    </tr>\n",
       "    <tr>\n",
       "      <th>1</th>\n",
       "      <td>Male</td>\n",
       "      <td>20-46</td>\n",
       "      <td>3738</td>\n",
       "      <td>1297</td>\n",
       "    </tr>\n",
       "    <tr>\n",
       "      <th>2</th>\n",
       "      <td>Male</td>\n",
       "      <td>20-46</td>\n",
       "      <td>4261</td>\n",
       "      <td>1335</td>\n",
       "    </tr>\n",
       "    <tr>\n",
       "      <th>3</th>\n",
       "      <td>Male</td>\n",
       "      <td>20-46</td>\n",
       "      <td>3777</td>\n",
       "      <td>1282</td>\n",
       "    </tr>\n",
       "    <tr>\n",
       "      <th>4</th>\n",
       "      <td>Male</td>\n",
       "      <td>20-46</td>\n",
       "      <td>4177</td>\n",
       "      <td>1590</td>\n",
       "    </tr>\n",
       "  </tbody>\n",
       "</table>\n",
       "</div>"
      ],
      "text/plain": [
       "  gender    age  size  weight\n",
       "0   Male  20-46  4512    1530\n",
       "1   Male  20-46  3738    1297\n",
       "2   Male  20-46  4261    1335\n",
       "3   Male  20-46  3777    1282\n",
       "4   Male  20-46  4177    1590"
      ]
     },
     "execution_count": 2,
     "metadata": {},
     "output_type": "execute_result"
    }
   ],
   "source": [
    "# Read the csv file into a pandas DataFrame\n",
    "brain = pd.read_csv('data/brain_categorical.csv')\n",
    "brain.head()"
   ]
  },
  {
   "cell_type": "markdown",
   "id": "exact-freeware",
   "metadata": {},
   "source": [
    "### Step 1: Checking the data"
   ]
  },
  {
   "cell_type": "code",
   "execution_count": 3,
   "id": "seasonal-start",
   "metadata": {},
   "outputs": [
    {
     "name": "stdout",
     "output_type": "stream",
     "text": [
      "<class 'pandas.core.frame.DataFrame'>\n",
      "RangeIndex: 237 entries, 0 to 236\n",
      "Data columns (total 4 columns):\n",
      " #   Column  Non-Null Count  Dtype \n",
      "---  ------  --------------  ----- \n",
      " 0   gender  237 non-null    object\n",
      " 1   age     237 non-null    object\n",
      " 2   size    237 non-null    int64 \n",
      " 3   weight  237 non-null    int64 \n",
      "dtypes: int64(2), object(2)\n",
      "memory usage: 7.5+ KB\n"
     ]
    }
   ],
   "source": [
    "# Use the .info() method to check the data set\n",
    "brain.info()"
   ]
  },
  {
   "cell_type": "markdown",
   "id": "polish-gossip",
   "metadata": {},
   "source": [
    "Question:\n",
    "\n",
    "1. Do we have any missing data?\n",
    "2. What are the data type for each variable (column)?\n",
    "3. Do we need to clean the data?"
   ]
  },
  {
   "cell_type": "code",
   "execution_count": 4,
   "id": "appreciated-refrigerator",
   "metadata": {},
   "outputs": [
    {
     "data": {
      "text/html": [
       "<div>\n",
       "<style scoped>\n",
       "    .dataframe tbody tr th:only-of-type {\n",
       "        vertical-align: middle;\n",
       "    }\n",
       "\n",
       "    .dataframe tbody tr th {\n",
       "        vertical-align: top;\n",
       "    }\n",
       "\n",
       "    .dataframe thead th {\n",
       "        text-align: right;\n",
       "    }\n",
       "</style>\n",
       "<table border=\"1\" class=\"dataframe\">\n",
       "  <thead>\n",
       "    <tr style=\"text-align: right;\">\n",
       "      <th></th>\n",
       "      <th>size</th>\n",
       "      <th>weight</th>\n",
       "    </tr>\n",
       "  </thead>\n",
       "  <tbody>\n",
       "    <tr>\n",
       "      <th>count</th>\n",
       "      <td>237.000000</td>\n",
       "      <td>237.000000</td>\n",
       "    </tr>\n",
       "    <tr>\n",
       "      <th>mean</th>\n",
       "      <td>3633.991561</td>\n",
       "      <td>1282.873418</td>\n",
       "    </tr>\n",
       "    <tr>\n",
       "      <th>std</th>\n",
       "      <td>365.261422</td>\n",
       "      <td>120.340446</td>\n",
       "    </tr>\n",
       "    <tr>\n",
       "      <th>min</th>\n",
       "      <td>2720.000000</td>\n",
       "      <td>955.000000</td>\n",
       "    </tr>\n",
       "    <tr>\n",
       "      <th>25%</th>\n",
       "      <td>3389.000000</td>\n",
       "      <td>1207.000000</td>\n",
       "    </tr>\n",
       "    <tr>\n",
       "      <th>50%</th>\n",
       "      <td>3614.000000</td>\n",
       "      <td>1280.000000</td>\n",
       "    </tr>\n",
       "    <tr>\n",
       "      <th>75%</th>\n",
       "      <td>3876.000000</td>\n",
       "      <td>1350.000000</td>\n",
       "    </tr>\n",
       "    <tr>\n",
       "      <th>max</th>\n",
       "      <td>4747.000000</td>\n",
       "      <td>1635.000000</td>\n",
       "    </tr>\n",
       "  </tbody>\n",
       "</table>\n",
       "</div>"
      ],
      "text/plain": [
       "              size       weight\n",
       "count   237.000000   237.000000\n",
       "mean   3633.991561  1282.873418\n",
       "std     365.261422   120.340446\n",
       "min    2720.000000   955.000000\n",
       "25%    3389.000000  1207.000000\n",
       "50%    3614.000000  1280.000000\n",
       "75%    3876.000000  1350.000000\n",
       "max    4747.000000  1635.000000"
      ]
     },
     "execution_count": 4,
     "metadata": {},
     "output_type": "execute_result"
    }
   ],
   "source": [
    "# Use the .describe() method to print the statistical summary of the data set\n",
    "brain.describe()"
   ]
  },
  {
   "cell_type": "markdown",
   "id": "occupied-phoenix",
   "metadata": {},
   "source": [
    "Question:\n",
    "\n",
    "1. Why are we see the statistical summary returning only two columns (size and weight)?\n",
    "\n",
    "Let's check the count of each category (level) in both categorical columns."
   ]
  },
  {
   "cell_type": "code",
   "execution_count": 5,
   "id": "established-arcade",
   "metadata": {},
   "outputs": [
    {
     "data": {
      "text/plain": [
       "Male      134\n",
       "Female    103\n",
       "Name: gender, dtype: int64"
      ]
     },
     "execution_count": 5,
     "metadata": {},
     "output_type": "execute_result"
    }
   ],
   "source": [
    "# Count of male and female\n",
    "brain['gender'].value_counts()"
   ]
  },
  {
   "cell_type": "code",
   "execution_count": 6,
   "id": "foreign-leeds",
   "metadata": {},
   "outputs": [
    {
     "data": {
      "text/plain": [
       "46+      127\n",
       "20-46    110\n",
       "Name: age, dtype: int64"
      ]
     },
     "execution_count": 6,
     "metadata": {},
     "output_type": "execute_result"
    }
   ],
   "source": [
    "# Count of different age groups\n",
    "brain['age'].value_counts()"
   ]
  },
  {
   "cell_type": "markdown",
   "id": "aggressive-sending",
   "metadata": {},
   "source": [
    "Next, let's create the predictors and target dataframes.\n",
    "\n",
    "Example:\n",
    "\n",
    "``` Python\n",
    "# Create predictors dataframe\n",
    "predictors = data.drop('target_name', axis=1)\n",
    "\n",
    "# Create target dataframe\n",
    "target = data['target_name']\n",
    "```"
   ]
  },
  {
   "cell_type": "code",
   "execution_count": 7,
   "id": "considerable-mistress",
   "metadata": {},
   "outputs": [],
   "source": [
    "# Create the predictors and target dataframes\n",
    "predictors = brain.drop('weight', axis = 1)\n",
    "target = brain['weight']"
   ]
  },
  {
   "cell_type": "markdown",
   "id": "checked-avenue",
   "metadata": {},
   "source": [
    "### Step 2: Create dummy variables for categorical data\n",
    "\n",
    "Now that we have studied the data set and knowing that there are two categorical variables (columns). We need to create dummy columns.\n",
    "\n",
    "Feel free to use either *Pandas* ```pd.get_dummies()``` or *sklearn* ```OneHotEncoder()``` for this task.\n",
    "\n",
    "Example:\n",
    "\n",
    "``` Python\n",
    "# Create dummy columns with Pandas function\n",
    "data_encoded = pd.get_dummies(data, drop_first = True)\n",
    "\n",
    "# Create dummy columns with sklearn OneHotEncoder\n",
    "ohe = OneHotEncoder(drop = 'first')\n",
    "data_trans = ohe.fit_transform(data['categorical_columns'])\n",
    "data_encoded = pd.DataFrame(data_trans.todense(), columns = ohe.get_feature_names())\n",
    "data_encoded.join(data['numerical_columns'])\n",
    "data_encoded\n",
    "```\n",
    "\n",
    "Note: *Remember when we are fitting / training the data with the OLS regression model, we need to exclude one level from each categorical variable as the reference level.*"
   ]
  },
  {
   "cell_type": "code",
   "execution_count": 8,
   "id": "flexible-treasurer",
   "metadata": {},
   "outputs": [
    {
     "name": "stdout",
     "output_type": "stream",
     "text": [
      "     size  gender_Male  age_46+\n",
      "0    4512            1        0\n",
      "1    3738            1        0\n",
      "2    4261            1        0\n",
      "3    3777            1        0\n",
      "4    4177            1        0\n",
      "..    ...          ...      ...\n",
      "232  3214            0        1\n",
      "233  3394            0        1\n",
      "234  3233            0        1\n",
      "235  3352            0        1\n",
      "236  3391            0        1\n",
      "\n",
      "[237 rows x 3 columns]\n"
     ]
    }
   ],
   "source": [
    "# Create the categorical columns with Pandas DataFrame\n",
    "predictors_encoded = pd.get_dummies(predictors, drop_first = True)\n",
    "print(predictors_encoded)"
   ]
  },
  {
   "cell_type": "code",
   "execution_count": 9,
   "id": "incoming-abraham",
   "metadata": {},
   "outputs": [
    {
     "name": "stdout",
     "output_type": "stream",
     "text": [
      "     x0_Male  x1_46+  size\n",
      "0        1.0     0.0  4512\n",
      "1        1.0     0.0  3738\n",
      "2        1.0     0.0  4261\n",
      "3        1.0     0.0  3777\n",
      "4        1.0     0.0  4177\n",
      "..       ...     ...   ...\n",
      "232      0.0     1.0  3214\n",
      "233      0.0     1.0  3394\n",
      "234      0.0     1.0  3233\n",
      "235      0.0     1.0  3352\n",
      "236      0.0     1.0  3391\n",
      "\n",
      "[237 rows x 3 columns]\n"
     ]
    }
   ],
   "source": [
    "# Create the categorical columns with sklearn OneHotEncoder (optional)\n",
    "ohe = OneHotEncoder(drop = 'first')\n",
    "predictors_trans = ohe.fit_transform(predictors[['gender', 'age']])\n",
    "predictors_encoded = pd.DataFrame(predictors_trans.todense(), columns = ohe.get_feature_names())\n",
    "predictors_encoded = predictors_encoded.join(predictors['size'])\n",
    "print(predictors_encoded)"
   ]
  },
  {
   "cell_type": "markdown",
   "id": "purple-regression",
   "metadata": {},
   "source": [
    "Check the encoded predictors dataframe to make sure the dummy columns are created and the original columns are removed.\n",
    "\n",
    "Let's run the sklearn OLS with the encoded data and see the results."
   ]
  },
  {
   "cell_type": "code",
   "execution_count": 10,
   "id": "discrete-penny",
   "metadata": {},
   "outputs": [
    {
     "data": {
      "text/plain": [
       "LinearRegression()"
      ]
     },
     "execution_count": 10,
     "metadata": {},
     "output_type": "execute_result"
    }
   ],
   "source": [
    "# Create the OLS Regression object\n",
    "lr = LinearRegression()\n",
    "\n",
    "# Fit the training data using the OLS regression object\n",
    "lr.fit(predictors_encoded, target)"
   ]
  },
  {
   "cell_type": "code",
   "execution_count": 11,
   "id": "instrumental-cornwall",
   "metadata": {},
   "outputs": [
    {
     "data": {
      "text/plain": [
       "array([ 22.5432537 , -23.96844543,   0.24421175])"
      ]
     },
     "execution_count": 11,
     "metadata": {},
     "output_type": "execute_result"
    }
   ],
   "source": [
    "# Extract the coefficient values using the .coef_ attribute\n",
    "lr.coef_"
   ]
  },
  {
   "cell_type": "code",
   "execution_count": 12,
   "id": "pharmaceutical-married",
   "metadata": {},
   "outputs": [
    {
     "data": {
      "text/plain": [
       "395.507858056101"
      ]
     },
     "execution_count": 12,
     "metadata": {},
     "output_type": "execute_result"
    }
   ],
   "source": [
    "# Extract the intercept coefficient\n",
    "lr.intercept_"
   ]
  },
  {
   "cell_type": "markdown",
   "id": "liberal-bankruptcy",
   "metadata": {},
   "source": [
    "### Step 3: Scaling the data\n",
    "\n",
    "If we look at the estimated coefficents, there are two relatively large coefficients (gender_male and age_46+) and a cofficient (size) less than 1. \n",
    "\n",
    "Remember, we can use the sklearn ```StandardScaler()``` to standardize the data, so the variables will be on the same scale.\n",
    "\n",
    "Example:\n",
    "\n",
    "``` Python\n",
    "# Create the StandardScaler object\n",
    "ss = StandardScaler()\n",
    "\n",
    "## Apply it to our data by using the .fit() and .transform() methods\n",
    "data_scaler = ss.fit(data)\n",
    "data_scaled = data_scaler.transform(data)\n",
    "```\n",
    "\n",
    "Note: *The StandardScaler is expecting a 2D array for input. If we are scaling our target variable, we need to reshape the dataframe using ```target.values.reshape(-1, 1)``` in the .fit() and .transfrom() functions.*"
   ]
  },
  {
   "cell_type": "code",
   "execution_count": 13,
   "id": "alike-syndicate",
   "metadata": {},
   "outputs": [
    {
     "name": "stdout",
     "output_type": "stream",
     "text": [
      "       male       46+      size\n",
      "0  0.876731 -1.074498  2.408868\n",
      "1  0.876731 -1.074498  0.285353\n",
      "2  0.876731 -1.074498  1.720235\n",
      "3  0.876731 -1.074498  0.392352\n",
      "4  0.876731 -1.074498  1.489776\n",
      "     weight\n",
      "0  2.057908\n",
      "1  0.117637\n",
      "2  0.434076\n",
      "3 -0.007273\n",
      "4  2.557549\n"
     ]
    }
   ],
   "source": [
    "# Create the StandardScaler object\n",
    "ss = StandardScaler()\n",
    "\n",
    "# Apply it the predictors and target by using the .fit() and .transform() methods\n",
    "predictors_scaler = ss.fit(predictors_encoded)\n",
    "predictors_scaled = predictors_scaler.transform(predictors_encoded)\n",
    "\n",
    "target_scaler = ss.fit(target.values.reshape(-1, 1))\n",
    "target_scaled = target_scaler.transform(target.values.reshape(-1, 1))\n",
    "\n",
    "# Create the scaled dataframes\n",
    "predictors_scaled = pd.DataFrame(predictors_scaled, columns = ['male', '46+', 'size'])\n",
    "target_scaled = pd.DataFrame(target_scaled, columns = ['weight'])\n",
    "\n",
    "# Print the scaled predictors and target\n",
    "print(predictors_scaled.head())\n",
    "print(target_scaled.head())"
   ]
  },
  {
   "cell_type": "markdown",
   "id": "universal-manual",
   "metadata": {},
   "source": [
    "### Step 5: Fitting the scaled data to multiple linear regression\n",
    "\n",
    "Let's run the sklearn multiple regrssion with the scaled data again. "
   ]
  },
  {
   "cell_type": "code",
   "execution_count": 14,
   "id": "twelve-panel",
   "metadata": {},
   "outputs": [
    {
     "data": {
      "text/plain": [
       "LinearRegression()"
      ]
     },
     "execution_count": 14,
     "metadata": {},
     "output_type": "execute_result"
    }
   ],
   "source": [
    "# Create the OLS Regression object\n",
    "lr = LinearRegression()\n",
    "\n",
    "# Fit the training data using the OLS regression object\n",
    "lr.fit(predictors_scaled, target_scaled)"
   ]
  },
  {
   "cell_type": "code",
   "execution_count": 15,
   "id": "surface-creator",
   "metadata": {},
   "outputs": [
    {
     "data": {
      "text/plain": [
       "array([[ 0.09305631, -0.09953969,  0.74123982]])"
      ]
     },
     "execution_count": 15,
     "metadata": {},
     "output_type": "execute_result"
    }
   ],
   "source": [
    "# Extract the coefficient values using the .coef_ attribute\n",
    "lr.coef_"
   ]
  },
  {
   "cell_type": "code",
   "execution_count": 16,
   "id": "acoustic-healthcare",
   "metadata": {},
   "outputs": [
    {
     "data": {
      "text/plain": [
       "array([-2.89583504e-16])"
      ]
     },
     "execution_count": 16,
     "metadata": {},
     "output_type": "execute_result"
    }
   ],
   "source": [
    "# Extract the intercept coefficient\n",
    "lr.intercept_"
   ]
  },
  {
   "cell_type": "code",
   "execution_count": 17,
   "id": "hollywood-singer",
   "metadata": {},
   "outputs": [
    {
     "data": {
      "image/png": "[encoded data removed]",
      "text/plain": [
       "<Figure size 864x432 with 2 Axes>"
      ]
     },
     "metadata": {
      "needs_background": "light"
     },
     "output_type": "display_data"
    }
   ],
   "source": [
    "# Visualize the scaling effect\n",
    "fig1 = plt.figure(figsize=(12, 6))\n",
    "axes1 = fig1.add_subplot(1, 2, 1)\n",
    "axes2 = fig1.add_subplot(1, 2, 2)\n",
    "\n",
    "axes1.set_title(\"Original Data\")\n",
    "axes2.set_title(\"Scaled Data\")\n",
    "\n",
    "maxx = predictors_encoded['size'].max()\n",
    "maxy = target.max()\n",
    "axes1.set_xlim(-maxx + 1, maxx + 1)\n",
    "axes1.set_ylim(-maxy + 1, maxy + 1)\n",
    "\n",
    "axes2.set_xlim(-2, 2)\n",
    "axes2.set_ylim(-2, 2)\n",
    "\n",
    "def set_axes(ax):\n",
    "    ax.spines['left'].set_position('center')\n",
    "    ax.spines['right'].set_color('none')\n",
    "    ax.spines['bottom'].set_position('center')\n",
    "    ax.spines['top'].set_color('none')\n",
    "    ax.xaxis.set_ticks_position('bottom')\n",
    "    ax.yaxis.set_ticks_position('left')\n",
    "    \n",
    "set_axes(axes1)\n",
    "set_axes(axes2)\n",
    "\n",
    "axes1.scatter(predictors_encoded['size'], target)\n",
    "axes2.scatter(predictors_scaled['size'], target_scaled['weight'])\n",
    "plt.savefig('img/standard_scaling.png')"
   ]
  },
  {
   "cell_type": "markdown",
   "id": "armed-liver",
   "metadata": {},
   "source": [
    "### Step 6: Evaluate the model\n",
    "\n",
    "Let's evaluate the model with different metrics, such as $R^2$, MAE, and MSE."
   ]
  },
  {
   "cell_type": "code",
   "execution_count": 18,
   "id": "outdoor-nightmare",
   "metadata": {},
   "outputs": [
    {
     "data": {
      "text/plain": [
       "0.6528346387526653"
      ]
     },
     "execution_count": 18,
     "metadata": {},
     "output_type": "execute_result"
    }
   ],
   "source": [
    "# Extract the R^2 score of the model\n",
    "lr.score(predictors_scaled, target_scaled)"
   ]
  },
  {
   "cell_type": "code",
   "execution_count": 19,
   "id": "exposed-november",
   "metadata": {},
   "outputs": [
    {
     "data": {
      "text/plain": [
       "0.46094178757136256"
      ]
     },
     "execution_count": 19,
     "metadata": {},
     "output_type": "execute_result"
    }
   ],
   "source": [
    "# Check the mean absolute error (MAE)\n",
    "metrics.mean_absolute_error(target_scaled, lr.predict(predictors_scaled))"
   ]
  },
  {
   "cell_type": "code",
   "execution_count": 20,
   "id": "eastern-concentration",
   "metadata": {},
   "outputs": [
    {
     "data": {
      "text/plain": [
       "0.34716536124733455"
      ]
     },
     "execution_count": 20,
     "metadata": {},
     "output_type": "execute_result"
    }
   ],
   "source": [
    "# Check the mean squared error (MSE)\n",
    "metrics.mean_squared_error(target_scaled, lr.predict(predictors_scaled))"
   ]
  },
  {
   "cell_type": "markdown",
   "id": "higher-element",
   "metadata": {},
   "source": [
    "**Final Challenge:**\n",
    "\n",
    "Let's use statsmodel OLS regression to confirm our results from the previous exercise. Run two OLS regression, one with the encoded data and one with the scaled data.\n",
    "\n",
    "Check the coefficient and $R^2$ values. They should be the same as the sklearn OLS regression models.  If they are not, something is wrong!!"
   ]
  },
  {
   "cell_type": "code",
   "execution_count": 21,
   "id": "armed-matter",
   "metadata": {},
   "outputs": [],
   "source": [
    "import statsmodels.api as sm"
   ]
  },
  {
   "cell_type": "code",
   "execution_count": 22,
   "id": "synthetic-function",
   "metadata": {},
   "outputs": [
    {
     "data": {
      "text/html": [
       "<table class=\"simpletable\">\n",
       "<caption>OLS Regression Results</caption>\n",
       "<tr>\n",
       "  <th>Dep. Variable:</th>         <td>weight</td>      <th>  R-squared:         </th> <td>   0.653</td>\n",
       "</tr>\n",
       "<tr>\n",
       "  <th>Model:</th>                   <td>OLS</td>       <th>  Adj. R-squared:    </th> <td>   0.648</td>\n",
       "</tr>\n",
       "<tr>\n",
       "  <th>Method:</th>             <td>Least Squares</td>  <th>  F-statistic:       </th> <td>   146.0</td>\n",
       "</tr>\n",
       "<tr>\n",
       "  <th>Date:</th>             <td>Sun, 04 Jul 2021</td> <th>  Prob (F-statistic):</th> <td>2.94e-53</td>\n",
       "</tr>\n",
       "<tr>\n",
       "  <th>Time:</th>                 <td>22:05:44</td>     <th>  Log-Likelihood:    </th> <td> -1345.7</td>\n",
       "</tr>\n",
       "<tr>\n",
       "  <th>No. Observations:</th>      <td>   237</td>      <th>  AIC:               </th> <td>   2699.</td>\n",
       "</tr>\n",
       "<tr>\n",
       "  <th>Df Residuals:</th>          <td>   233</td>      <th>  BIC:               </th> <td>   2713.</td>\n",
       "</tr>\n",
       "<tr>\n",
       "  <th>Df Model:</th>              <td>     3</td>      <th>                     </th>     <td> </td>   \n",
       "</tr>\n",
       "<tr>\n",
       "  <th>Covariance Type:</th>      <td>nonrobust</td>    <th>                     </th>     <td> </td>   \n",
       "</tr>\n",
       "</table>\n",
       "<table class=\"simpletable\">\n",
       "<tr>\n",
       "     <td></td>        <th>coef</th>     <th>std err</th>      <th>t</th>      <th>P>|t|</th>  <th>[0.025</th>    <th>0.975]</th>  \n",
       "</tr>\n",
       "<tr>\n",
       "  <th>const</th>   <td>  395.5079</td> <td>   52.999</td> <td>    7.463</td> <td> 0.000</td> <td>  291.090</td> <td>  499.926</td>\n",
       "</tr>\n",
       "<tr>\n",
       "  <th>x0_Male</th> <td>   22.5433</td> <td>   11.058</td> <td>    2.039</td> <td> 0.043</td> <td>    0.757</td> <td>   44.329</td>\n",
       "</tr>\n",
       "<tr>\n",
       "  <th>x1_46+</th>  <td>  -23.9684</td> <td>    9.481</td> <td>   -2.528</td> <td> 0.012</td> <td>  -42.647</td> <td>   -5.290</td>\n",
       "</tr>\n",
       "<tr>\n",
       "  <th>size</th>    <td>    0.2442</td> <td>    0.015</td> <td>   16.212</td> <td> 0.000</td> <td>    0.215</td> <td>    0.274</td>\n",
       "</tr>\n",
       "</table>\n",
       "<table class=\"simpletable\">\n",
       "<tr>\n",
       "  <th>Omnibus:</th>       <td> 7.989</td> <th>  Durbin-Watson:     </th> <td>   1.922</td>\n",
       "</tr>\n",
       "<tr>\n",
       "  <th>Prob(Omnibus):</th> <td> 0.018</td> <th>  Jarque-Bera (JB):  </th> <td>   8.255</td>\n",
       "</tr>\n",
       "<tr>\n",
       "  <th>Skew:</th>          <td> 0.357</td> <th>  Prob(JB):          </th> <td>  0.0161</td>\n",
       "</tr>\n",
       "<tr>\n",
       "  <th>Kurtosis:</th>      <td> 3.571</td> <th>  Cond. No.          </th> <td>4.20e+04</td>\n",
       "</tr>\n",
       "</table><br/><br/>Notes:<br/>[1] Standard Errors assume that the covariance matrix of the errors is correctly specified.<br/>[2] The condition number is large, 4.2e+04. This might indicate that there are<br/>strong multicollinearity or other numerical problems."
      ],
      "text/plain": [
       "<class 'statsmodels.iolib.summary.Summary'>\n",
       "\"\"\"\n",
       "                            OLS Regression Results                            \n",
       "==============================================================================\n",
       "Dep. Variable:                 weight   R-squared:                       0.653\n",
       "Model:                            OLS   Adj. R-squared:                  0.648\n",
       "Method:                 Least Squares   F-statistic:                     146.0\n",
       "Date:                Sun, 04 Jul 2021   Prob (F-statistic):           2.94e-53\n",
       "Time:                        22:05:44   Log-Likelihood:                -1345.7\n",
       "No. Observations:                 237   AIC:                             2699.\n",
       "Df Residuals:                     233   BIC:                             2713.\n",
       "Df Model:                           3                                         \n",
       "Covariance Type:            nonrobust                                         \n",
       "==============================================================================\n",
       "                 coef    std err          t      P>|t|      [0.025      0.975]\n",
       "------------------------------------------------------------------------------\n",
       "const        395.5079     52.999      7.463      0.000     291.090     499.926\n",
       "x0_Male       22.5433     11.058      2.039      0.043       0.757      44.329\n",
       "x1_46+       -23.9684      9.481     -2.528      0.012     -42.647      -5.290\n",
       "size           0.2442      0.015     16.212      0.000       0.215       0.274\n",
       "==============================================================================\n",
       "Omnibus:                        7.989   Durbin-Watson:                   1.922\n",
       "Prob(Omnibus):                  0.018   Jarque-Bera (JB):                8.255\n",
       "Skew:                           0.357   Prob(JB):                       0.0161\n",
       "Kurtosis:                       3.571   Cond. No.                     4.20e+04\n",
       "==============================================================================\n",
       "\n",
       "Notes:\n",
       "[1] Standard Errors assume that the covariance matrix of the errors is correctly specified.\n",
       "[2] The condition number is large, 4.2e+04. This might indicate that there are\n",
       "strong multicollinearity or other numerical problems.\n",
       "\"\"\""
      ]
     },
     "execution_count": 22,
     "metadata": {},
     "output_type": "execute_result"
    }
   ],
   "source": [
    "# Create the OLS model and fit the encoded data\n",
    "model = sm.OLS(target, sm.add_constant(predictors_encoded)).fit()\n",
    "model.summary()"
   ]
  },
  {
   "cell_type": "code",
   "execution_count": 23,
   "id": "pleased-institute",
   "metadata": {},
   "outputs": [
    {
     "data": {
      "text/html": [
       "<table class=\"simpletable\">\n",
       "<caption>OLS Regression Results</caption>\n",
       "<tr>\n",
       "  <th>Dep. Variable:</th>         <td>weight</td>      <th>  R-squared:         </th> <td>   0.653</td>\n",
       "</tr>\n",
       "<tr>\n",
       "  <th>Model:</th>                   <td>OLS</td>       <th>  Adj. R-squared:    </th> <td>   0.648</td>\n",
       "</tr>\n",
       "<tr>\n",
       "  <th>Method:</th>             <td>Least Squares</td>  <th>  F-statistic:       </th> <td>   146.0</td>\n",
       "</tr>\n",
       "<tr>\n",
       "  <th>Date:</th>             <td>Sun, 04 Jul 2021</td> <th>  Prob (F-statistic):</th> <td>2.94e-53</td>\n",
       "</tr>\n",
       "<tr>\n",
       "  <th>Time:</th>                 <td>22:05:44</td>     <th>  Log-Likelihood:    </th> <td> -210.92</td>\n",
       "</tr>\n",
       "<tr>\n",
       "  <th>No. Observations:</th>      <td>   237</td>      <th>  AIC:               </th> <td>   429.8</td>\n",
       "</tr>\n",
       "<tr>\n",
       "  <th>Df Residuals:</th>          <td>   233</td>      <th>  BIC:               </th> <td>   443.7</td>\n",
       "</tr>\n",
       "<tr>\n",
       "  <th>Df Model:</th>              <td>     3</td>      <th>                     </th>     <td> </td>   \n",
       "</tr>\n",
       "<tr>\n",
       "  <th>Covariance Type:</th>      <td>nonrobust</td>    <th>                     </th>     <td> </td>   \n",
       "</tr>\n",
       "</table>\n",
       "<table class=\"simpletable\">\n",
       "<tr>\n",
       "    <td></td>       <th>coef</th>     <th>std err</th>      <th>t</th>      <th>P>|t|</th>  <th>[0.025</th>    <th>0.975]</th>  \n",
       "</tr>\n",
       "<tr>\n",
       "  <th>const</th> <td>-1.388e-17</td> <td>    0.039</td> <td> -3.6e-16</td> <td> 1.000</td> <td>   -0.076</td> <td>    0.076</td>\n",
       "</tr>\n",
       "<tr>\n",
       "  <th>male</th>  <td>    0.0931</td> <td>    0.046</td> <td>    2.039</td> <td> 0.043</td> <td>    0.003</td> <td>    0.183</td>\n",
       "</tr>\n",
       "<tr>\n",
       "  <th>46+</th>   <td>   -0.0995</td> <td>    0.039</td> <td>   -2.528</td> <td> 0.012</td> <td>   -0.177</td> <td>   -0.022</td>\n",
       "</tr>\n",
       "<tr>\n",
       "  <th>size</th>  <td>    0.7412</td> <td>    0.046</td> <td>   16.212</td> <td> 0.000</td> <td>    0.651</td> <td>    0.831</td>\n",
       "</tr>\n",
       "</table>\n",
       "<table class=\"simpletable\">\n",
       "<tr>\n",
       "  <th>Omnibus:</th>       <td> 7.989</td> <th>  Durbin-Watson:     </th> <td>   1.922</td>\n",
       "</tr>\n",
       "<tr>\n",
       "  <th>Prob(Omnibus):</th> <td> 0.018</td> <th>  Jarque-Bera (JB):  </th> <td>   8.255</td>\n",
       "</tr>\n",
       "<tr>\n",
       "  <th>Skew:</th>          <td> 0.357</td> <th>  Prob(JB):          </th> <td>  0.0161</td>\n",
       "</tr>\n",
       "<tr>\n",
       "  <th>Kurtosis:</th>      <td> 3.571</td> <th>  Cond. No.          </th> <td>    1.83</td>\n",
       "</tr>\n",
       "</table><br/><br/>Notes:<br/>[1] Standard Errors assume that the covariance matrix of the errors is correctly specified."
      ],
      "text/plain": [
       "<class 'statsmodels.iolib.summary.Summary'>\n",
       "\"\"\"\n",
       "                            OLS Regression Results                            \n",
       "==============================================================================\n",
       "Dep. Variable:                 weight   R-squared:                       0.653\n",
       "Model:                            OLS   Adj. R-squared:                  0.648\n",
       "Method:                 Least Squares   F-statistic:                     146.0\n",
       "Date:                Sun, 04 Jul 2021   Prob (F-statistic):           2.94e-53\n",
       "Time:                        22:05:44   Log-Likelihood:                -210.92\n",
       "No. Observations:                 237   AIC:                             429.8\n",
       "Df Residuals:                     233   BIC:                             443.7\n",
       "Df Model:                           3                                         \n",
       "Covariance Type:            nonrobust                                         \n",
       "==============================================================================\n",
       "                 coef    std err          t      P>|t|      [0.025      0.975]\n",
       "------------------------------------------------------------------------------\n",
       "const      -1.388e-17      0.039   -3.6e-16      1.000      -0.076       0.076\n",
       "male           0.0931      0.046      2.039      0.043       0.003       0.183\n",
       "46+           -0.0995      0.039     -2.528      0.012      -0.177      -0.022\n",
       "size           0.7412      0.046     16.212      0.000       0.651       0.831\n",
       "==============================================================================\n",
       "Omnibus:                        7.989   Durbin-Watson:                   1.922\n",
       "Prob(Omnibus):                  0.018   Jarque-Bera (JB):                8.255\n",
       "Skew:                           0.357   Prob(JB):                       0.0161\n",
       "Kurtosis:                       3.571   Cond. No.                         1.83\n",
       "==============================================================================\n",
       "\n",
       "Notes:\n",
       "[1] Standard Errors assume that the covariance matrix of the errors is correctly specified.\n",
       "\"\"\""
      ]
     },
     "execution_count": 23,
     "metadata": {},
     "output_type": "execute_result"
    }
   ],
   "source": [
    "# Create the OLS model and fit the scaled data\n",
    "model = sm.OLS(target_scaled, sm.add_constant(predictors_scaled)).fit()\n",
    "model.summary()"
   ]
  },
  {
   "cell_type": "code",
   "execution_count": null,
   "id": "adjusted-composition",
   "metadata": {},
   "outputs": [],
   "source": []
  }
 ],
 "metadata": {
  "hide_input": false,
  "kernelspec": {
   "display_name": "Python 3",
   "language": "python",
   "name": "python3"
  },
  "language_info": {
   "codemirror_mode": {
    "name": "ipython",
    "version": 3
   },
   "file_extension": ".py",
   "mimetype": "text/x-python",
   "name": "python",
   "nbconvert_exporter": "python",
   "pygments_lexer": "ipython3",
   "version": "3.7.1"
  },
  "nbTranslate": {
   "displayLangs": [
    "*"
   ],
   "hotkey": "alt-t",
   "langInMainMenu": true,
   "sourceLang": "en",
   "targetLang": "fr",
   "useGoogleTranslate": true
  },
  "varInspector": {
   "cols": {
    "lenName": 16,
    "lenType": 16,
    "lenVar": 40
   },
   "kernels_config": {
    "python": {
     "delete_cmd_postfix": "",
     "delete_cmd_prefix": "del ",
     "library": "var_list.py",
     "varRefreshCmd": "print(var_dic_list())"
    },
    "r": {
     "delete_cmd_postfix": ") ",
     "delete_cmd_prefix": "rm(",
     "library": "var_list.r",
     "varRefreshCmd": "cat(var_dic_list()) "
    }
   },
   "types_to_exclude": [
    "module",
    "function",
    "builtin_function_or_method",
    "instance",
    "_Feature"
   ],
   "window_display": false
  }
 },
 "nbformat": 4,
 "nbformat_minor": 5
}
